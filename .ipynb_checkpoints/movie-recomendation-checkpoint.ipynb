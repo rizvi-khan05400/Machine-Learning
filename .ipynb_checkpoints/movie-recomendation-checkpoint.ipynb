{
 "cells": [
  {
   "cell_type": "markdown",
   "id": "ab26b312-08ec-467d-938d-8fb160030f22",
   "metadata": {},
   "source": [
    "# Movie Recomendation System"
   ]
  },
  {
   "cell_type": "code",
   "execution_count": 1,
   "id": "ec75e87b-0416-46c4-a657-98e713c72607",
   "metadata": {},
   "outputs": [],
   "source": [
    "# Import libraries\n",
    "import numpy as np # For mathematical\n",
    "import pandas as pd # For data visusalization\n",
    "\n",
    "import ast # Import the 'ast' module, which provides tools to work with Python's Abstract Syntax Trees.\n",
    "\n",
    "from sklearn.feature_extraction.text import CountVectorizer # For vectorization\n",
    "from sklearn.metrics.pairwise import cosine_similarity # Importing cosine_similarity to compute the similarity between two vectors (e.g., two documents)\n",
    "\n",
    "import nltk # Importing the Natural Language Toolkit library, commonly used for text preprocessing tasks\n",
    "from nltk.stem.porter import PorterStemmer # Importing the PorterStemmer from nltk, which reduces words to their root form (e.g., \"running\" -> \"run\")"
   ]
  },
  {
   "cell_type": "code",
   "execution_count": 2,
   "id": "73e68088-d316-4188-b16f-9c00c597044e",
   "metadata": {},
   "outputs": [],
   "source": [
    "df = pd.read_csv('Movie/tmdb_5000_movies.csv')\n",
    "df2 = pd.read_csv('Movie/tmdb_5000_credits.csv')"
   ]
  },
  {
   "cell_type": "code",
   "execution_count": null,
   "id": "dc77bf7e-6d67-43d8-a467-0d451ebd8038",
   "metadata": {},
   "outputs": [],
   "source": []
  },
  {
   "cell_type": "markdown",
   "id": "42b27d85-fd92-4631-b544-609256c1d857",
   "metadata": {},
   "source": [
    "# Data PreProcessing"
   ]
  },
  {
   "cell_type": "code",
   "execution_count": 3,
   "id": "9cec8b82-754f-4312-a78f-f7eb50b9bca1",
   "metadata": {},
   "outputs": [],
   "source": [
    "# Merging two data frame into a one data frame\n",
    "df = df.merge(df2, on='title') # Two data frame merging into the basis of 'title' column"
   ]
  },
  {
   "cell_type": "code",
   "execution_count": 4,
   "id": "ed98b20f-01ea-4e22-9b4f-f99e61dd4c38",
   "metadata": {},
   "outputs": [],
   "source": [
    "# Remove ecessary except genres, movie_id, keywords, title, overviwe, cast, crew\n",
    "df = df[['movie_id', 'title',  'overview', 'genres', 'keywords', 'cast', 'crew']]"
   ]
  },
  {
   "cell_type": "code",
   "execution_count": 5,
   "id": "301413e4-3925-48c6-a1d3-c0a236e8888d",
   "metadata": {},
   "outputs": [],
   "source": [
    "# Dropping the missing value\n",
    "df.dropna(inplace=True)"
   ]
  },
  {
   "cell_type": "code",
   "execution_count": 6,
   "id": "c6d2e623-fe14-43a4-a02a-7a35ec152c1e",
   "metadata": {},
   "outputs": [],
   "source": [
    "# PreProcessing of 'genres' column\n",
    "# only evaluates safe literals like strings, numbers, lists, dicts, tuples, booleans, and\n",
    "# Changing format\n",
    "def convert(obj):\n",
    "    return [i['name'] for i in ast.literal_eval(obj)]\n",
    "\n",
    "# Taking the 1st 3 name info\n",
    "def convert3(obj):\n",
    "    return [i['name'] for i in ast.literal_eval(obj)[:3]]\n",
    "\n",
    "# Taking the director\n",
    "def fetch_director(obj):\n",
    "    return [i['name'] for i in ast.literal_eval(obj) if i.get('job') == 'Director'][:1]\n",
    "\n",
    "# The output of converted columns\n",
    "df['genres'] = df['genres'].apply(convert)\n",
    "df['keywords'] = df['keywords'].apply(convert)\n",
    "df['cast'] = df['cast'].apply(convert3)\n",
    "df['crew'] = df['crew'].apply(fetch_director)\n",
    "\n",
    "# Overview column which is in string format converting a list format\n",
    "df['overview'] = df['overview'].apply(lambda x:x.split())"
   ]
  },
  {
   "cell_type": "code",
   "execution_count": 7,
   "id": "aff8edfc-8381-451a-a3aa-6287d1cf03b1",
   "metadata": {},
   "outputs": [],
   "source": [
    "# Removing white space\n",
    "df['genres'] = df['genres'].apply(lambda x:[i.replace(' ', '') for i in x])\n",
    "df['keywords'] = df['keywords'].apply(lambda x:[i.replace(' ', '') for i in x])\n",
    "df['cast'] = df['cast'].apply(lambda x:[i.replace(' ', '') for i in x])\n",
    "df['crew'] = df['crew'].apply(lambda x:[i.replace(' ', '') for i in x])"
   ]
  },
  {
   "cell_type": "code",
   "execution_count": 8,
   "id": "9c62487d-1b01-4bf6-a5b8-7dc7aeb09386",
   "metadata": {},
   "outputs": [],
   "source": [
    "# Making a new column where we concatinate 'overview', 'genres', 'keywords', 'cast', 'crew' this columns\n",
    "df['tags'] = df['overview'] + df['genres'] + df['keywords'] + df['cast'] + df['crew']"
   ]
  },
  {
   "cell_type": "code",
   "execution_count": 9,
   "id": "bcea725b-209e-4b5a-a9a8-e2da3ec401d2",
   "metadata": {},
   "outputs": [],
   "source": [
    "# Removing columns\n",
    "df.drop(columns=['overview', 'genres', 'keywords', 'cast', 'crew'], inplace=True)"
   ]
  },
  {
   "cell_type": "code",
   "execution_count": 10,
   "id": "b125e70e-c522-44e6-9fa8-6ded7328c7b0",
   "metadata": {},
   "outputs": [],
   "source": [
    "# Converting a list into a strings\n",
    "df['tags'] = df['tags'].apply(lambda x:' '.join(x))"
   ]
  },
  {
   "cell_type": "code",
   "execution_count": 11,
   "id": "095c311a-7f11-4d0e-92f0-37401a391d83",
   "metadata": {},
   "outputs": [],
   "source": [
    "# Converting all charecters in lowercase\n",
    "df['tags'] = df['tags'].apply(lambda x:x.lower())"
   ]
  },
  {
   "cell_type": "code",
   "execution_count": null,
   "id": "45f8ee87-957c-494e-8536-bfb81827b38e",
   "metadata": {},
   "outputs": [],
   "source": []
  },
  {
   "cell_type": "markdown",
   "id": "010f05ec-2c44-4b54-b841-64e9c42e29b1",
   "metadata": {},
   "source": [
    "# Vectorization"
   ]
  },
  {
   "cell_type": "code",
   "execution_count": 12,
   "id": "5def5707-f9f7-48fd-b0a9-164e94385e67",
   "metadata": {},
   "outputs": [],
   "source": [
    "# Vectorization\n",
    "cv = CountVectorizer(max_features=5000, stop_words='english')"
   ]
  },
  {
   "cell_type": "code",
   "execution_count": 13,
   "id": "d311ea24-fbe6-4514-b7a2-3b76a524b52b",
   "metadata": {},
   "outputs": [],
   "source": [
    "vectors = cv.fit_transform(df['tags']).toarray()"
   ]
  },
  {
   "cell_type": "code",
   "execution_count": 14,
   "id": "4ea9fa23-c82d-4324-9ad0-d7e7136812fa",
   "metadata": {},
   "outputs": [],
   "source": [
    "# Creating a obj\n",
    "ps = PorterStemmer()"
   ]
  },
  {
   "cell_type": "code",
   "execution_count": 15,
   "id": "c12df969-fd4b-472c-a220-ee16bf2f9646",
   "metadata": {},
   "outputs": [],
   "source": [
    "# Creating a helper function\n",
    "def stem(text):\n",
    "    y = []\n",
    "\n",
    "    for i in text.split():\n",
    "        y.append(ps.stem(i))\n",
    "\n",
    "    return ' '.join(y)"
   ]
  },
  {
   "cell_type": "code",
   "execution_count": 16,
   "id": "8faf5b2d-a38c-43a5-a351-d18a34d7f50f",
   "metadata": {},
   "outputs": [],
   "source": [
    "df['tags'] = df['tags'].apply(stem)"
   ]
  },
  {
   "cell_type": "code",
   "execution_count": 17,
   "id": "77cbcbe5-6086-431a-b4cc-4f5ac3facbea",
   "metadata": {},
   "outputs": [],
   "source": [
    "# Passing the vectors in cosine_similarity\n",
    "similarity = cosine_similarity(vectors)"
   ]
  },
  {
   "cell_type": "code",
   "execution_count": 18,
   "id": "4e2c5061-c65d-4627-bc00-2c238408d24f",
   "metadata": {
    "editable": true,
    "slideshow": {
     "slide_type": ""
    },
    "tags": []
   },
   "outputs": [],
   "source": [
    "def recommend(movie):\n",
    "    movie_index = df[df['title'] == movie].index[0]\n",
    "    distances = similarity[movie_index]\n",
    "    movies_list = sorted(list(enumerate(distances)), reverse=True, key=lambda x:x[1])[1:6]\n",
    "\n",
    "    for i in movies_list:\n",
    "        print(df.iloc[i[0]].title)"
   ]
  },
  {
   "cell_type": "code",
   "execution_count": 19,
   "id": "8428396a-b576-48f2-9470-3049bf756954",
   "metadata": {},
   "outputs": [
    {
     "name": "stdout",
     "output_type": "stream",
     "text": [
      "Titan A.E.\n",
      "Small Soldiers\n",
      "Independence Day\n",
      "Ender's Game\n",
      "Aliens vs Predator: Requiem\n"
     ]
    }
   ],
   "source": [
    "recommend(\"Avatar\")"
   ]
  },
  {
   "cell_type": "code",
   "execution_count": null,
   "id": "ba48f7e8-5c03-4764-b608-a8fd8ef8731e",
   "metadata": {},
   "outputs": [],
   "source": []
  },
  {
   "cell_type": "markdown",
   "id": "6f73fcaf",
   "metadata": {},
   "source": [
    "# This project builds a content-based movie recommendation system using the TMDB dataset. It analyzes features such as genres, cast, crew, and keywords to compute similarity between movies. By combining these features into a single \"tags\" column and applying TF-IDF vectorization with cosine similarity, the system recommends movies that are most similar to a given title. The project includes data preprocessing, feature engineering, and saving the model components for reuse."
   ]
  },
  {
   "cell_type": "markdown",
   "id": "43f004b2-0bc3-46c1-9bf8-ea3567748d33",
   "metadata": {},
   "source": []
  }
 ],
 "metadata": {
  "kernelspec": {
   "display_name": "Python 3 (ipykernel)",
   "language": "python",
   "name": "python3"
  },
  "language_info": {
   "codemirror_mode": {
    "name": "ipython",
    "version": 3
   },
   "file_extension": ".py",
   "mimetype": "text/x-python",
   "name": "python",
   "nbconvert_exporter": "python",
   "pygments_lexer": "ipython3",
   "version": "3.12.7"
  }
 },
 "nbformat": 4,
 "nbformat_minor": 5
}
